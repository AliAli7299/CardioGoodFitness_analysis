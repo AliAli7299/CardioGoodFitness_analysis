{
 "cells": [
  {
   "cell_type": "code",
   "execution_count": 1,
   "id": "04ccbb8a",
   "metadata": {
    "_execution_state": "idle",
    "_uuid": "051d70d956493feee0c6d64651c6a088724dca2a",
    "execution": {
     "iopub.execute_input": "2025-02-28T15:02:25.781153Z",
     "iopub.status.busy": "2025-02-28T15:02:25.778997Z",
     "iopub.status.idle": "2025-02-28T15:02:27.209828Z",
     "shell.execute_reply": "2025-02-28T15:02:27.207785Z"
    },
    "papermill": {
     "duration": 1.442724,
     "end_time": "2025-02-28T15:02:27.212488",
     "exception": false,
     "start_time": "2025-02-28T15:02:25.769764",
     "status": "completed"
    },
    "tags": []
   },
   "outputs": [
    {
     "name": "stderr",
     "output_type": "stream",
     "text": [
      "── \u001b[1mAttaching core tidyverse packages\u001b[22m ──────────────────────── tidyverse 2.0.0 ──\n",
      "\u001b[32m✔\u001b[39m \u001b[34mdplyr    \u001b[39m 1.1.4     \u001b[32m✔\u001b[39m \u001b[34mreadr    \u001b[39m 2.1.5\n",
      "\u001b[32m✔\u001b[39m \u001b[34mforcats  \u001b[39m 1.0.0     \u001b[32m✔\u001b[39m \u001b[34mstringr  \u001b[39m 1.5.1\n",
      "\u001b[32m✔\u001b[39m \u001b[34mggplot2  \u001b[39m 3.5.1     \u001b[32m✔\u001b[39m \u001b[34mtibble   \u001b[39m 3.2.1\n",
      "\u001b[32m✔\u001b[39m \u001b[34mlubridate\u001b[39m 1.9.3     \u001b[32m✔\u001b[39m \u001b[34mtidyr    \u001b[39m 1.3.1\n",
      "\u001b[32m✔\u001b[39m \u001b[34mpurrr    \u001b[39m 1.0.2     \n"
     ]
    },
    {
     "name": "stderr",
     "output_type": "stream",
     "text": [
      "── \u001b[1mConflicts\u001b[22m ────────────────────────────────────────── tidyverse_conflicts() ──\n",
      "\u001b[31m✖\u001b[39m \u001b[34mdplyr\u001b[39m::\u001b[32mfilter()\u001b[39m masks \u001b[34mstats\u001b[39m::filter()\n",
      "\u001b[31m✖\u001b[39m \u001b[34mdplyr\u001b[39m::\u001b[32mlag()\u001b[39m    masks \u001b[34mstats\u001b[39m::lag()\n",
      "\u001b[36mℹ\u001b[39m Use the conflicted package (\u001b[3m\u001b[34m<http://conflicted.r-lib.org/>\u001b[39m\u001b[23m) to force all conflicts to become errors\n"
     ]
    },
    {
     "data": {
      "text/html": [
       "'cardiogoodfitness'"
      ],
      "text/latex": [
       "'cardiogoodfitness'"
      ],
      "text/markdown": [
       "'cardiogoodfitness'"
      ],
      "text/plain": [
       "[1] \"cardiogoodfitness\""
      ]
     },
     "metadata": {},
     "output_type": "display_data"
    }
   ],
   "source": [
    "# This R environment comes with many helpful analytics packages installed\n",
    "# It is defined by the kaggle/rstats Docker image: https://github.com/kaggle/docker-rstats\n",
    "# For example, here's a helpful package to load\n",
    "\n",
    "library(tidyverse) # metapackage of all tidyverse packages\n",
    "\n",
    "# Input data files are available in the read-only \"../input/\" directory\n",
    "# For example, running this (by clicking run or pressing Shift+Enter) will list all files under the input directory\n",
    "\n",
    "list.files(path = \"../input\")\n",
    "\n",
    "# You can write up to 20GB to the current directory (/kaggle/working/) that gets preserved as output when you create a version using \"Save & Run All\" \n",
    "# You can also write temporary files to /kaggle/temp/, but they won't be saved outside of the current session"
   ]
  },
  {
   "cell_type": "code",
   "execution_count": 2,
   "id": "92795a9e",
   "metadata": {
    "execution": {
     "iopub.execute_input": "2025-02-28T15:02:27.259466Z",
     "iopub.status.busy": "2025-02-28T15:02:27.228910Z",
     "iopub.status.idle": "2025-02-28T15:03:35.904915Z",
     "shell.execute_reply": "2025-02-28T15:03:35.902755Z"
    },
    "papermill": {
     "duration": 68.687766,
     "end_time": "2025-02-28T15:03:35.907764",
     "exception": false,
     "start_time": "2025-02-28T15:02:27.219998",
     "status": "completed"
    },
    "tags": []
   },
   "outputs": [
    {
     "name": "stderr",
     "output_type": "stream",
     "text": [
      "Installing package into ‘/usr/local/lib/R/site-library’\n",
      "(as ‘lib’ is unspecified)\n",
      "\n"
     ]
    },
    {
     "name": "stderr",
     "output_type": "stream",
     "text": [
      "Installing package into ‘/usr/local/lib/R/site-library’\n",
      "(as ‘lib’ is unspecified)\n",
      "\n"
     ]
    },
    {
     "name": "stderr",
     "output_type": "stream",
     "text": [
      "Installing package into ‘/usr/local/lib/R/site-library’\n",
      "(as ‘lib’ is unspecified)\n",
      "\n"
     ]
    },
    {
     "name": "stderr",
     "output_type": "stream",
     "text": [
      "Installing package into ‘/usr/local/lib/R/site-library’\n",
      "(as ‘lib’ is unspecified)\n",
      "\n"
     ]
    },
    {
     "name": "stderr",
     "output_type": "stream",
     "text": [
      "corrplot 0.95 loaded\n",
      "\n"
     ]
    },
    {
     "name": "stderr",
     "output_type": "stream",
     "text": [
      "\n",
      "Attaching package: ‘gridExtra’\n",
      "\n",
      "\n"
     ]
    },
    {
     "name": "stderr",
     "output_type": "stream",
     "text": [
      "The following object is masked from ‘package:dplyr’:\n",
      "\n",
      "    combine\n",
      "\n",
      "\n"
     ]
    },
    {
     "name": "stderr",
     "output_type": "stream",
     "text": [
      "\n",
      "Attaching package: ‘reshape2’\n",
      "\n",
      "\n"
     ]
    },
    {
     "name": "stderr",
     "output_type": "stream",
     "text": [
      "The following object is masked from ‘package:tidyr’:\n",
      "\n",
      "    smiths\n",
      "\n",
      "\n"
     ]
    }
   ],
   "source": [
    "install.packages(\"ggplot2\")\n",
    "install.packages(\"gridExtra\") \n",
    "install.packages(\"corrplot\") \n",
    "install.packages(\"reshape2\")\n",
    "\n",
    "\n",
    "library(corrplot)\n",
    "library(ggplot2)\n",
    "library(gridExtra)\n",
    "library(reshape2)"
   ]
  },
  {
   "cell_type": "code",
   "execution_count": 3,
   "id": "ea6c1080",
   "metadata": {
    "execution": {
     "iopub.execute_input": "2025-02-28T15:03:35.946668Z",
     "iopub.status.busy": "2025-02-28T15:03:35.927349Z",
     "iopub.status.idle": "2025-02-28T15:03:35.971640Z",
     "shell.execute_reply": "2025-02-28T15:03:35.969742Z"
    },
    "papermill": {
     "duration": 0.056406,
     "end_time": "2025-02-28T15:03:35.974281",
     "exception": false,
     "start_time": "2025-02-28T15:03:35.917875",
     "status": "completed"
    },
    "tags": []
   },
   "outputs": [],
   "source": [
    "data <- read.csv(\"/kaggle/input/cardiogoodfitness/CardioGoodFitness.csv\")"
   ]
  },
  {
   "cell_type": "code",
   "execution_count": 4,
   "id": "d28d71a1",
   "metadata": {
    "execution": {
     "iopub.execute_input": "2025-02-28T15:03:35.992934Z",
     "iopub.status.busy": "2025-02-28T15:03:35.991279Z",
     "iopub.status.idle": "2025-02-28T15:03:36.024147Z",
     "shell.execute_reply": "2025-02-28T15:03:36.022261Z"
    },
    "papermill": {
     "duration": 0.04489,
     "end_time": "2025-02-28T15:03:36.026923",
     "exception": false,
     "start_time": "2025-02-28T15:03:35.982033",
     "status": "completed"
    },
    "tags": []
   },
   "outputs": [
    {
     "data": {
      "text/html": [
       "<table class=\"dataframe\">\n",
       "<caption>A data.frame: 6 × 9</caption>\n",
       "<thead>\n",
       "\t<tr><th></th><th scope=col>Product</th><th scope=col>Age</th><th scope=col>Gender</th><th scope=col>Education</th><th scope=col>MaritalStatus</th><th scope=col>Usage</th><th scope=col>Fitness</th><th scope=col>Income</th><th scope=col>Miles</th></tr>\n",
       "\t<tr><th></th><th scope=col>&lt;chr&gt;</th><th scope=col>&lt;int&gt;</th><th scope=col>&lt;chr&gt;</th><th scope=col>&lt;int&gt;</th><th scope=col>&lt;chr&gt;</th><th scope=col>&lt;int&gt;</th><th scope=col>&lt;int&gt;</th><th scope=col>&lt;int&gt;</th><th scope=col>&lt;int&gt;</th></tr>\n",
       "</thead>\n",
       "<tbody>\n",
       "\t<tr><th scope=row>1</th><td>TM195</td><td>18</td><td>Male  </td><td>14</td><td>Single   </td><td>3</td><td>4</td><td>29562</td><td>112</td></tr>\n",
       "\t<tr><th scope=row>2</th><td>TM195</td><td>19</td><td>Male  </td><td>15</td><td>Single   </td><td>2</td><td>3</td><td>31836</td><td> 75</td></tr>\n",
       "\t<tr><th scope=row>3</th><td>TM195</td><td>19</td><td>Female</td><td>14</td><td>Partnered</td><td>4</td><td>3</td><td>30699</td><td> 66</td></tr>\n",
       "\t<tr><th scope=row>4</th><td>TM195</td><td>19</td><td>Male  </td><td>12</td><td>Single   </td><td>3</td><td>3</td><td>32973</td><td> 85</td></tr>\n",
       "\t<tr><th scope=row>5</th><td>TM195</td><td>20</td><td>Male  </td><td>13</td><td>Partnered</td><td>4</td><td>2</td><td>35247</td><td> 47</td></tr>\n",
       "\t<tr><th scope=row>6</th><td>TM195</td><td>20</td><td>Female</td><td>14</td><td>Partnered</td><td>3</td><td>3</td><td>32973</td><td> 66</td></tr>\n",
       "</tbody>\n",
       "</table>\n"
      ],
      "text/latex": [
       "A data.frame: 6 × 9\n",
       "\\begin{tabular}{r|lllllllll}\n",
       "  & Product & Age & Gender & Education & MaritalStatus & Usage & Fitness & Income & Miles\\\\\n",
       "  & <chr> & <int> & <chr> & <int> & <chr> & <int> & <int> & <int> & <int>\\\\\n",
       "\\hline\n",
       "\t1 & TM195 & 18 & Male   & 14 & Single    & 3 & 4 & 29562 & 112\\\\\n",
       "\t2 & TM195 & 19 & Male   & 15 & Single    & 2 & 3 & 31836 &  75\\\\\n",
       "\t3 & TM195 & 19 & Female & 14 & Partnered & 4 & 3 & 30699 &  66\\\\\n",
       "\t4 & TM195 & 19 & Male   & 12 & Single    & 3 & 3 & 32973 &  85\\\\\n",
       "\t5 & TM195 & 20 & Male   & 13 & Partnered & 4 & 2 & 35247 &  47\\\\\n",
       "\t6 & TM195 & 20 & Female & 14 & Partnered & 3 & 3 & 32973 &  66\\\\\n",
       "\\end{tabular}\n"
      ],
      "text/markdown": [
       "\n",
       "A data.frame: 6 × 9\n",
       "\n",
       "| <!--/--> | Product &lt;chr&gt; | Age &lt;int&gt; | Gender &lt;chr&gt; | Education &lt;int&gt; | MaritalStatus &lt;chr&gt; | Usage &lt;int&gt; | Fitness &lt;int&gt; | Income &lt;int&gt; | Miles &lt;int&gt; |\n",
       "|---|---|---|---|---|---|---|---|---|---|\n",
       "| 1 | TM195 | 18 | Male   | 14 | Single    | 3 | 4 | 29562 | 112 |\n",
       "| 2 | TM195 | 19 | Male   | 15 | Single    | 2 | 3 | 31836 |  75 |\n",
       "| 3 | TM195 | 19 | Female | 14 | Partnered | 4 | 3 | 30699 |  66 |\n",
       "| 4 | TM195 | 19 | Male   | 12 | Single    | 3 | 3 | 32973 |  85 |\n",
       "| 5 | TM195 | 20 | Male   | 13 | Partnered | 4 | 2 | 35247 |  47 |\n",
       "| 6 | TM195 | 20 | Female | 14 | Partnered | 3 | 3 | 32973 |  66 |\n",
       "\n"
      ],
      "text/plain": [
       "  Product Age Gender Education MaritalStatus Usage Fitness Income Miles\n",
       "1 TM195   18  Male   14        Single        3     4       29562  112  \n",
       "2 TM195   19  Male   15        Single        2     3       31836   75  \n",
       "3 TM195   19  Female 14        Partnered     4     3       30699   66  \n",
       "4 TM195   19  Male   12        Single        3     3       32973   85  \n",
       "5 TM195   20  Male   13        Partnered     4     2       35247   47  \n",
       "6 TM195   20  Female 14        Partnered     3     3       32973   66  "
      ]
     },
     "metadata": {},
     "output_type": "display_data"
    }
   ],
   "source": [
    "head(data)"
   ]
  },
  {
   "cell_type": "code",
   "execution_count": 5,
   "id": "56c677c3",
   "metadata": {
    "execution": {
     "iopub.execute_input": "2025-02-28T15:03:36.045766Z",
     "iopub.status.busy": "2025-02-28T15:03:36.044179Z",
     "iopub.status.idle": "2025-02-28T15:03:36.068590Z",
     "shell.execute_reply": "2025-02-28T15:03:36.066517Z"
    },
    "papermill": {
     "duration": 0.036449,
     "end_time": "2025-02-28T15:03:36.071028",
     "exception": false,
     "start_time": "2025-02-28T15:03:36.034579",
     "status": "completed"
    },
    "tags": []
   },
   "outputs": [
    {
     "name": "stdout",
     "output_type": "stream",
     "text": [
      "'data.frame':\t180 obs. of  9 variables:\n",
      " $ Product      : chr  \"TM195\" \"TM195\" \"TM195\" \"TM195\" ...\n",
      " $ Age          : int  18 19 19 19 20 20 21 21 21 21 ...\n",
      " $ Gender       : chr  \"Male\" \"Male\" \"Female\" \"Male\" ...\n",
      " $ Education    : int  14 15 14 12 13 14 14 13 15 15 ...\n",
      " $ MaritalStatus: chr  \"Single\" \"Single\" \"Partnered\" \"Single\" ...\n",
      " $ Usage        : int  3 2 4 3 4 3 3 3 5 2 ...\n",
      " $ Fitness      : int  4 3 3 3 2 3 3 3 4 3 ...\n",
      " $ Income       : int  29562 31836 30699 32973 35247 32973 35247 32973 35247 37521 ...\n",
      " $ Miles        : int  112 75 66 85 47 66 75 85 141 85 ...\n"
     ]
    }
   ],
   "source": [
    "str(data)"
   ]
  },
  {
   "cell_type": "code",
   "execution_count": 6,
   "id": "834f910d",
   "metadata": {
    "execution": {
     "iopub.execute_input": "2025-02-28T15:03:36.090984Z",
     "iopub.status.busy": "2025-02-28T15:03:36.089305Z",
     "iopub.status.idle": "2025-02-28T15:03:36.109956Z",
     "shell.execute_reply": "2025-02-28T15:03:36.108088Z"
    },
    "papermill": {
     "duration": 0.033319,
     "end_time": "2025-02-28T15:03:36.112452",
     "exception": false,
     "start_time": "2025-02-28T15:03:36.079133",
     "status": "completed"
    },
    "tags": []
   },
   "outputs": [
    {
     "data": {
      "text/plain": [
       "   Product               Age           Gender            Education    \n",
       " Length:180         Min.   :18.00   Length:180         Min.   :12.00  \n",
       " Class :character   1st Qu.:24.00   Class :character   1st Qu.:14.00  \n",
       " Mode  :character   Median :26.00   Mode  :character   Median :16.00  \n",
       "                    Mean   :28.79                      Mean   :15.57  \n",
       "                    3rd Qu.:33.00                      3rd Qu.:16.00  \n",
       "                    Max.   :50.00                      Max.   :21.00  \n",
       " MaritalStatus          Usage          Fitness          Income      \n",
       " Length:180         Min.   :2.000   Min.   :1.000   Min.   : 29562  \n",
       " Class :character   1st Qu.:3.000   1st Qu.:3.000   1st Qu.: 44059  \n",
       " Mode  :character   Median :3.000   Median :3.000   Median : 50596  \n",
       "                    Mean   :3.456   Mean   :3.311   Mean   : 53720  \n",
       "                    3rd Qu.:4.000   3rd Qu.:4.000   3rd Qu.: 58668  \n",
       "                    Max.   :7.000   Max.   :5.000   Max.   :104581  \n",
       "     Miles      \n",
       " Min.   : 21.0  \n",
       " 1st Qu.: 66.0  \n",
       " Median : 94.0  \n",
       " Mean   :103.2  \n",
       " 3rd Qu.:114.8  \n",
       " Max.   :360.0  "
      ]
     },
     "metadata": {},
     "output_type": "display_data"
    }
   ],
   "source": [
    "summary(data)"
   ]
  },
  {
   "cell_type": "code",
   "execution_count": 7,
   "id": "94b3f9cd",
   "metadata": {
    "execution": {
     "iopub.execute_input": "2025-02-28T15:03:36.131995Z",
     "iopub.status.busy": "2025-02-28T15:03:36.130357Z",
     "iopub.status.idle": "2025-02-28T15:03:36.151555Z",
     "shell.execute_reply": "2025-02-28T15:03:36.149038Z"
    },
    "papermill": {
     "duration": 0.034798,
     "end_time": "2025-02-28T15:03:36.154914",
     "exception": false,
     "start_time": "2025-02-28T15:03:36.120116",
     "status": "completed"
    },
    "tags": []
   },
   "outputs": [
    {
     "data": {
      "text/html": [
       "<dl>\n",
       "\t<dt>$Product</dt>\n",
       "\t\t<dd><style>\n",
       ".list-inline {list-style: none; margin:0; padding: 0}\n",
       ".list-inline>li {display: inline-block}\n",
       ".list-inline>li:not(:last-child)::after {content: \"\\00b7\"; padding: 0 .5ex}\n",
       "</style>\n",
       "<ol class=list-inline><li>'TM195'</li><li>'TM498'</li><li>'TM798'</li></ol>\n",
       "</dd>\n",
       "\t<dt>$Gender</dt>\n",
       "\t\t<dd><style>\n",
       ".list-inline {list-style: none; margin:0; padding: 0}\n",
       ".list-inline>li {display: inline-block}\n",
       ".list-inline>li:not(:last-child)::after {content: \"\\00b7\"; padding: 0 .5ex}\n",
       "</style>\n",
       "<ol class=list-inline><li>'Male'</li><li>'Female'</li></ol>\n",
       "</dd>\n",
       "\t<dt>$MaritalStatus</dt>\n",
       "\t\t<dd><style>\n",
       ".list-inline {list-style: none; margin:0; padding: 0}\n",
       ".list-inline>li {display: inline-block}\n",
       ".list-inline>li:not(:last-child)::after {content: \"\\00b7\"; padding: 0 .5ex}\n",
       "</style>\n",
       "<ol class=list-inline><li>'Single'</li><li>'Partnered'</li></ol>\n",
       "</dd>\n",
       "</dl>\n"
      ],
      "text/latex": [
       "\\begin{description}\n",
       "\\item[\\$Product] \\begin{enumerate*}\n",
       "\\item 'TM195'\n",
       "\\item 'TM498'\n",
       "\\item 'TM798'\n",
       "\\end{enumerate*}\n",
       "\n",
       "\\item[\\$Gender] \\begin{enumerate*}\n",
       "\\item 'Male'\n",
       "\\item 'Female'\n",
       "\\end{enumerate*}\n",
       "\n",
       "\\item[\\$MaritalStatus] \\begin{enumerate*}\n",
       "\\item 'Single'\n",
       "\\item 'Partnered'\n",
       "\\end{enumerate*}\n",
       "\n",
       "\\end{description}\n"
      ],
      "text/markdown": [
       "$Product\n",
       ":   1. 'TM195'\n",
       "2. 'TM498'\n",
       "3. 'TM798'\n",
       "\n",
       "\n",
       "\n",
       "$Gender\n",
       ":   1. 'Male'\n",
       "2. 'Female'\n",
       "\n",
       "\n",
       "\n",
       "$MaritalStatus\n",
       ":   1. 'Single'\n",
       "2. 'Partnered'\n",
       "\n",
       "\n",
       "\n",
       "\n",
       "\n"
      ],
      "text/plain": [
       "$Product\n",
       "[1] \"TM195\" \"TM498\" \"TM798\"\n",
       "\n",
       "$Gender\n",
       "[1] \"Male\"   \"Female\"\n",
       "\n",
       "$MaritalStatus\n",
       "[1] \"Single\"    \"Partnered\"\n"
      ]
     },
     "metadata": {},
     "output_type": "display_data"
    }
   ],
   "source": [
    "sapply(data[, sapply(data, is.character)], unique)"
   ]
  },
  {
   "cell_type": "markdown",
   "id": "4ebec1ef",
   "metadata": {
    "papermill": {
     "duration": 0.008307,
     "end_time": "2025-02-28T15:03:36.171148",
     "exception": false,
     "start_time": "2025-02-28T15:03:36.162841",
     "status": "completed"
    },
    "tags": []
   },
   "source": [
    "We can observe:\n",
    "\n",
    "1. The minimum Age is 18 and the maximum is 50 with a mean of 28.79 and a median of 26.00.The age graph is right-skewed.\n",
    "2. The minimum Education level is 12 and the maximum is 21, with mean being 15.57.\n",
    "3. Usage ranges from 2 to 7.\n",
    "4. Fitness ranges from 1 to 5, with a mean of 3.3.\n",
    "5. Income ranges from 29562 to 104581 per year, with a mean of 53720.\n",
    "6. There are 3 products, 2 genders and 2 types of Martial status.\n",
    "\n",
    "**We need to find the features that perfectly fit each model.**"
   ]
  },
  {
   "cell_type": "code",
   "execution_count": 8,
   "id": "dd63911b",
   "metadata": {
    "execution": {
     "iopub.execute_input": "2025-02-28T15:03:36.190451Z",
     "iopub.status.busy": "2025-02-28T15:03:36.188858Z",
     "iopub.status.idle": "2025-02-28T15:03:36.208517Z",
     "shell.execute_reply": "2025-02-28T15:03:36.205619Z"
    },
    "papermill": {
     "duration": 0.0332,
     "end_time": "2025-02-28T15:03:36.212180",
     "exception": false,
     "start_time": "2025-02-28T15:03:36.178980",
     "status": "completed"
    },
    "tags": []
   },
   "outputs": [
    {
     "data": {
      "text/html": [
       "0"
      ],
      "text/latex": [
       "0"
      ],
      "text/markdown": [
       "0"
      ],
      "text/plain": [
       "[1] 0"
      ]
     },
     "metadata": {},
     "output_type": "display_data"
    }
   ],
   "source": [
    "sum(is.na(data))"
   ]
  },
  {
   "cell_type": "code",
   "execution_count": 9,
   "id": "9a28b31d",
   "metadata": {
    "execution": {
     "iopub.execute_input": "2025-02-28T15:03:36.232762Z",
     "iopub.status.busy": "2025-02-28T15:03:36.231173Z",
     "iopub.status.idle": "2025-02-28T15:03:36.977613Z",
     "shell.execute_reply": "2025-02-28T15:03:36.974643Z"
    },
    "papermill": {
     "duration": 0.760911,
     "end_time": "2025-02-28T15:03:36.981651",
     "exception": false,
     "start_time": "2025-02-28T15:03:36.220740",
     "status": "completed"
    },
    "tags": []
   },
   "outputs": [
    {
     "data": {
      "image/png": "[encoded data removed]"
     },
     "metadata": {
      "image/png": {
       "height": 420,
       "width": 420
      }
     },
     "output_type": "display_data"
    }
   ],
   "source": [
    "ggplot(data, aes(x = Product, y = Age, fill = Product)) +\n",
    "  geom_boxplot() +\n",
    "  theme_minimal() +\n",
    "  ggtitle(\"Age Distribution by Product\") +\n",
    "  xlab(\"Treadmill Product\") +\n",
    "  ylab(\"Age\")"
   ]
  },
  {
   "cell_type": "markdown",
   "id": "da27aab4",
   "metadata": {
    "papermill": {
     "duration": 0.009058,
     "end_time": "2025-02-28T15:03:37.000214",
     "exception": false,
     "start_time": "2025-02-28T15:03:36.991156",
     "status": "completed"
    },
    "tags": []
   },
   "source": [
    "**TM195 and TM498 are usually preferred by people of 26-27 years of age, while TM798 is preferred by slightly older people (around 29).**"
   ]
  },
  {
   "cell_type": "markdown",
   "id": "e047c146",
   "metadata": {
    "papermill": {
     "duration": 0.008846,
     "end_time": "2025-02-28T15:03:37.018341",
     "exception": false,
     "start_time": "2025-02-28T15:03:37.009495",
     "status": "completed"
    },
    "tags": []
   },
   "source": [
    "# We have 2 categorical columns and 6 numerical ones. Let's begin by analyzing categorical columns. # "
   ]
  },
  {
   "cell_type": "code",
   "execution_count": 10,
   "id": "0fc07799",
   "metadata": {
    "execution": {
     "iopub.execute_input": "2025-02-28T15:03:37.039911Z",
     "iopub.status.busy": "2025-02-28T15:03:37.038181Z",
     "iopub.status.idle": "2025-02-28T15:03:37.057589Z",
     "shell.execute_reply": "2025-02-28T15:03:37.055301Z"
    },
    "papermill": {
     "duration": 0.033994,
     "end_time": "2025-02-28T15:03:37.061017",
     "exception": false,
     "start_time": "2025-02-28T15:03:37.027023",
     "status": "completed"
    },
    "tags": []
   },
   "outputs": [
    {
     "data": {
      "text/plain": [
       "\n",
       "Female   Male \n",
       "    76    104 "
      ]
     },
     "metadata": {},
     "output_type": "display_data"
    }
   ],
   "source": [
    "table(data$Gender)"
   ]
  },
  {
   "cell_type": "code",
   "execution_count": 11,
   "id": "d5ce5041",
   "metadata": {
    "execution": {
     "iopub.execute_input": "2025-02-28T15:03:37.083010Z",
     "iopub.status.busy": "2025-02-28T15:03:37.081375Z",
     "iopub.status.idle": "2025-02-28T15:03:37.100666Z",
     "shell.execute_reply": "2025-02-28T15:03:37.098330Z"
    },
    "papermill": {
     "duration": 0.034276,
     "end_time": "2025-02-28T15:03:37.104662",
     "exception": false,
     "start_time": "2025-02-28T15:03:37.070386",
     "status": "completed"
    },
    "tags": []
   },
   "outputs": [
    {
     "data": {
      "text/plain": [
       "\n",
       "Partnered    Single \n",
       "      107        73 "
      ]
     },
     "metadata": {},
     "output_type": "display_data"
    }
   ],
   "source": [
    "table(data$MaritalStatus)"
   ]
  },
  {
   "cell_type": "code",
   "execution_count": 12,
   "id": "d2928feb",
   "metadata": {
    "execution": {
     "iopub.execute_input": "2025-02-28T15:03:37.126234Z",
     "iopub.status.busy": "2025-02-28T15:03:37.124613Z",
     "iopub.status.idle": "2025-02-28T15:03:37.143796Z",
     "shell.execute_reply": "2025-02-28T15:03:37.141505Z"
    },
    "papermill": {
     "duration": 0.03335,
     "end_time": "2025-02-28T15:03:37.147010",
     "exception": false,
     "start_time": "2025-02-28T15:03:37.113660",
     "status": "completed"
    },
    "tags": []
   },
   "outputs": [
    {
     "data": {
      "text/plain": [
       "\n",
       "TM195 TM498 TM798 \n",
       "   80    60    40 "
      ]
     },
     "metadata": {},
     "output_type": "display_data"
    }
   ],
   "source": [
    "table(data$Product)"
   ]
  },
  {
   "cell_type": "code",
   "execution_count": 13,
   "id": "9f1617bc",
   "metadata": {
    "execution": {
     "iopub.execute_input": "2025-02-28T15:03:37.169330Z",
     "iopub.status.busy": "2025-02-28T15:03:37.167649Z",
     "iopub.status.idle": "2025-02-28T15:03:37.199857Z",
     "shell.execute_reply": "2025-02-28T15:03:37.197480Z"
    },
    "papermill": {
     "duration": 0.047468,
     "end_time": "2025-02-28T15:03:37.203465",
     "exception": false,
     "start_time": "2025-02-28T15:03:37.155997",
     "status": "completed"
    },
    "tags": []
   },
   "outputs": [
    {
     "data": {
      "text/plain": [
       "       \n",
       "        Partnered Single\n",
       "  TM195        48     32\n",
       "  TM498        36     24\n",
       "  TM798        23     17"
      ]
     },
     "metadata": {},
     "output_type": "display_data"
    }
   ],
   "source": [
    "table(data$Product,data$MaritalStatus)"
   ]
  },
  {
   "cell_type": "code",
   "execution_count": 14,
   "id": "f3b28327",
   "metadata": {
    "execution": {
     "iopub.execute_input": "2025-02-28T15:03:37.226273Z",
     "iopub.status.busy": "2025-02-28T15:03:37.224596Z",
     "iopub.status.idle": "2025-02-28T15:03:37.244282Z",
     "shell.execute_reply": "2025-02-28T15:03:37.241902Z"
    },
    "papermill": {
     "duration": 0.034189,
     "end_time": "2025-02-28T15:03:37.247392",
     "exception": false,
     "start_time": "2025-02-28T15:03:37.213203",
     "status": "completed"
    },
    "tags": []
   },
   "outputs": [
    {
     "data": {
      "text/plain": [
       "       \n",
       "        Female Male\n",
       "  TM195     40   40\n",
       "  TM498     29   31\n",
       "  TM798      7   33"
      ]
     },
     "metadata": {},
     "output_type": "display_data"
    }
   ],
   "source": [
    "table(data$Product,data$Gender)"
   ]
  },
  {
   "cell_type": "markdown",
   "id": "415a24c7",
   "metadata": {
    "papermill": {
     "duration": 0.008997,
     "end_time": "2025-02-28T15:03:37.265382",
     "exception": false,
     "start_time": "2025-02-28T15:03:37.256385",
     "status": "completed"
    },
    "tags": []
   },
   "source": [
    "**Partnered individuals tend to purchase more treadmills in general than single individuals, and males prefer the TM798 more than females.**"
   ]
  },
  {
   "cell_type": "code",
   "execution_count": 15,
   "id": "5608d487",
   "metadata": {
    "execution": {
     "iopub.execute_input": "2025-02-28T15:03:37.287281Z",
     "iopub.status.busy": "2025-02-28T15:03:37.285634Z",
     "iopub.status.idle": "2025-02-28T15:03:37.304409Z",
     "shell.execute_reply": "2025-02-28T15:03:37.302142Z"
    },
    "papermill": {
     "duration": 0.032993,
     "end_time": "2025-02-28T15:03:37.307606",
     "exception": false,
     "start_time": "2025-02-28T15:03:37.274613",
     "status": "completed"
    },
    "tags": []
   },
   "outputs": [
    {
     "data": {
      "text/plain": [
       ", ,  = Female\n",
       "\n",
       "       \n",
       "        Partnered Single\n",
       "  TM195        27     13\n",
       "  TM498        15     14\n",
       "  TM798         4      3\n",
       "\n",
       ", ,  = Male\n",
       "\n",
       "       \n",
       "        Partnered Single\n",
       "  TM195        21     19\n",
       "  TM498        21     10\n",
       "  TM798        19     14\n"
      ]
     },
     "metadata": {},
     "output_type": "display_data"
    }
   ],
   "source": [
    "table(data$Product,data$MaritalStatus,data$Gender)"
   ]
  },
  {
   "cell_type": "markdown",
   "id": "f0d1f91f",
   "metadata": {
    "papermill": {
     "duration": 0.009275,
     "end_time": "2025-02-28T15:03:37.325964",
     "exception": false,
     "start_time": "2025-02-28T15:03:37.316689",
     "status": "completed"
    },
    "tags": []
   },
   "source": [
    "**Let's visualize this for a better idea.**"
   ]
  },
  {
   "cell_type": "code",
   "execution_count": 16,
   "id": "a3c3c59e",
   "metadata": {
    "execution": {
     "iopub.execute_input": "2025-02-28T15:03:37.347902Z",
     "iopub.status.busy": "2025-02-28T15:03:37.346270Z",
     "iopub.status.idle": "2025-02-28T15:03:37.893913Z",
     "shell.execute_reply": "2025-02-28T15:03:37.891037Z"
    },
    "papermill": {
     "duration": 0.562212,
     "end_time": "2025-02-28T15:03:37.897235",
     "exception": false,
     "start_time": "2025-02-28T15:03:37.335023",
     "status": "completed"
    },
    "tags": []
   },
   "outputs": [
    {
     "data": {
      "image/png": "[encoded data removed]"
     },
     "metadata": {
      "image/png": {
       "height": 420,
       "width": 420
      }
     },
     "output_type": "display_data"
    }
   ],
   "source": [
    "ggplot(data, aes(x = Product, fill = interaction(MaritalStatus, Gender))) +\n",
    "  geom_bar(position = \"dodge\") +\n",
    "  theme_minimal() +\n",
    "  ggtitle(\"Comparison of Customer Groups Across Products\") +\n",
    "  xlab(\"Treadmill Product\") +\n",
    "  ylab(\"Count\") +\n",
    "  labs(fill = \"Marital Status & Gender\") +\n",
    "  scale_fill_manual(values = c(\"Single.Female\" = \"pink\", \"Single.Male\" = \"blue\",\n",
    "                               \"Partnered.Female\" = \"red\", \"Partnered.Male\" = \"darkblue\"))\n",
    "\n"
   ]
  },
  {
   "cell_type": "markdown",
   "id": "9228e0dd",
   "metadata": {
    "papermill": {
     "duration": 0.009863,
     "end_time": "2025-02-28T15:03:37.917267",
     "exception": false,
     "start_time": "2025-02-28T15:03:37.907404",
     "status": "completed"
    },
    "tags": []
   },
   "source": [
    "**We can deduce that partnered females in general prefer the TM195. However, more analysis needs to be made to get more accurate results.**"
   ]
  },
  {
   "cell_type": "markdown",
   "id": "90f51925",
   "metadata": {
    "papermill": {
     "duration": 0.010089,
     "end_time": "2025-02-28T15:03:37.937173",
     "exception": false,
     "start_time": "2025-02-28T15:03:37.927084",
     "status": "completed"
    },
    "tags": []
   },
   "source": [
    "# Analyzing Numerical columns"
   ]
  },
  {
   "cell_type": "markdown",
   "id": "4716d220",
   "metadata": {
    "papermill": {
     "duration": 0.011207,
     "end_time": "2025-02-28T15:03:37.958381",
     "exception": false,
     "start_time": "2025-02-28T15:03:37.947174",
     "status": "completed"
    },
    "tags": []
   },
   "source": [
    "**We begin by drawing a correlation heat map.**"
   ]
  },
  {
   "cell_type": "code",
   "execution_count": 17,
   "id": "912dccae",
   "metadata": {
    "execution": {
     "iopub.execute_input": "2025-02-28T15:03:37.983046Z",
     "iopub.status.busy": "2025-02-28T15:03:37.981421Z",
     "iopub.status.idle": "2025-02-28T15:03:38.098124Z",
     "shell.execute_reply": "2025-02-28T15:03:38.095258Z"
    },
    "papermill": {
     "duration": 0.132121,
     "end_time": "2025-02-28T15:03:38.101391",
     "exception": false,
     "start_time": "2025-02-28T15:03:37.969270",
     "status": "completed"
    },
    "tags": []
   },
   "outputs": [
    {
     "data": {
      "image/png": "[encoded data removed]"
     },
     "metadata": {
      "image/png": {
       "height": 420,
       "width": 420
      }
     },
     "output_type": "display_data"
    }
   ],
   "source": [
    "numerical_data <- data[, c(\"Age\",\"Education\",\"Income\",\"Usage\",\"Fitness\",\"Miles\")]\n",
    "cor_matrix <- cor(numerical_data, use=\"complete.obs\")\n",
    "\n",
    "corrplot(cor_matrix, method = \"color\", type = \"upper\", order = \"hclust\",\n",
    "         tl.col = \"black\", tl.srt = 45)"
   ]
  },
  {
   "cell_type": "markdown",
   "id": "0c01d8d6",
   "metadata": {
    "papermill": {
     "duration": 0.010856,
     "end_time": "2025-02-28T15:03:38.123165",
     "exception": false,
     "start_time": "2025-02-28T15:03:38.112309",
     "status": "completed"
    },
    "tags": []
   },
   "source": [
    "**We can see high correlation between Miles, Usage,Fitness,and Income. We will perform further analysis for better results.**"
   ]
  },
  {
   "cell_type": "code",
   "execution_count": 18,
   "id": "48e1e46a",
   "metadata": {
    "execution": {
     "iopub.execute_input": "2025-02-28T15:03:38.148260Z",
     "iopub.status.busy": "2025-02-28T15:03:38.146661Z",
     "iopub.status.idle": "2025-02-28T15:03:38.459946Z",
     "shell.execute_reply": "2025-02-28T15:03:38.456967Z"
    },
    "papermill": {
     "duration": 0.329652,
     "end_time": "2025-02-28T15:03:38.463489",
     "exception": false,
     "start_time": "2025-02-28T15:03:38.133837",
     "status": "completed"
    },
    "tags": []
   },
   "outputs": [
    {
     "data": {
      "image/png": "[encoded data removed]"
     },
     "metadata": {
      "image/png": {
       "height": 420,
       "width": 420
      }
     },
     "output_type": "display_data"
    }
   ],
   "source": [
    "ggplot(data, aes(x = Income, y = Usage, color = Product)) +\n",
    "  geom_point(alpha = 0.6, size = 3) +\n",
    "  theme_minimal() +\n",
    "  ggtitle(\"Usage vs Income by Product\") +\n",
    "  xlab(\"Income\") +\n",
    "  ylab(\"Usage (Frequency)\")"
   ]
  },
  {
   "cell_type": "markdown",
   "id": "60639210",
   "metadata": {
    "papermill": {
     "duration": 0.012606,
     "end_time": "2025-02-28T15:03:38.488585",
     "exception": false,
     "start_time": "2025-02-28T15:03:38.475979",
     "status": "completed"
    },
    "tags": []
   },
   "source": [
    "**Lower Income and usage is often associated with TM195 and TM498 models, while higher income and usage is often associated with TM798.**"
   ]
  },
  {
   "cell_type": "code",
   "execution_count": 19,
   "id": "760964f4",
   "metadata": {
    "execution": {
     "iopub.execute_input": "2025-02-28T15:03:38.517141Z",
     "iopub.status.busy": "2025-02-28T15:03:38.515547Z",
     "iopub.status.idle": "2025-02-28T15:03:38.542352Z",
     "shell.execute_reply": "2025-02-28T15:03:38.540000Z"
    },
    "papermill": {
     "duration": 0.044313,
     "end_time": "2025-02-28T15:03:38.545255",
     "exception": false,
     "start_time": "2025-02-28T15:03:38.500942",
     "status": "completed"
    },
    "tags": []
   },
   "outputs": [
    {
     "name": "stdout",
     "output_type": "stream",
     "text": [
      "  Product Income.Min. Income.1st Qu. Income.Median Income.Mean Income.3rd Qu.\n",
      "1   TM195    29562.00       38658.00      46617.00    46418.03       53439.00\n",
      "2   TM498    31836.00       44911.50      49459.50    48973.65       53439.00\n",
      "3   TM798    48556.00       58204.75      76568.50    75441.57       90886.00\n",
      "  Income.Max. Miles.Min. Miles.1st Qu. Miles.Median Miles.Mean Miles.3rd Qu.\n",
      "1    68220.00   38.00000      66.00000     85.00000   82.78750      94.00000\n",
      "2    67083.00   21.00000      64.00000     85.00000   87.93333     106.00000\n",
      "3   104581.00   80.00000     120.00000    160.00000  166.90000     200.00000\n",
      "  Miles.Max.\n",
      "1  188.00000\n",
      "2  212.00000\n",
      "3  360.00000\n"
     ]
    }
   ],
   "source": [
    "aggregate_summary <- aggregate(cbind(Income, Miles) ~ Product, data = data, FUN = summary)\n",
    "\n",
    "print(aggregate_summary)"
   ]
  },
  {
   "cell_type": "markdown",
   "id": "28eae14b",
   "metadata": {
    "papermill": {
     "duration": 0.013334,
     "end_time": "2025-02-28T15:03:38.571117",
     "exception": false,
     "start_time": "2025-02-28T15:03:38.557783",
     "status": "completed"
    },
    "tags": []
   },
   "source": [
    "**This Further proves that TM798 is suitable for higher income. However, someone aiming for the cheapest model should usually go for the TM195.**"
   ]
  },
  {
   "cell_type": "code",
   "execution_count": 20,
   "id": "ac3d395e",
   "metadata": {
    "execution": {
     "iopub.execute_input": "2025-02-28T15:03:38.600595Z",
     "iopub.status.busy": "2025-02-28T15:03:38.598757Z",
     "iopub.status.idle": "2025-02-28T15:03:38.643586Z",
     "shell.execute_reply": "2025-02-28T15:03:38.641168Z"
    },
    "papermill": {
     "duration": 0.062755,
     "end_time": "2025-02-28T15:03:38.646672",
     "exception": false,
     "start_time": "2025-02-28T15:03:38.583917",
     "status": "completed"
    },
    "tags": []
   },
   "outputs": [
    {
     "data": {
      "text/html": [
       "<table class=\"dataframe\">\n",
       "<caption>A data.frame: 3 × 7</caption>\n",
       "<thead>\n",
       "\t<tr><th scope=col>Product</th><th scope=col>Miles</th><th scope=col>Fitness</th><th scope=col>Income</th><th scope=col>Usage</th><th scope=col>Education</th><th scope=col>Age</th></tr>\n",
       "\t<tr><th scope=col>&lt;chr&gt;</th><th scope=col>&lt;dbl&gt;</th><th scope=col>&lt;dbl&gt;</th><th scope=col>&lt;dbl&gt;</th><th scope=col>&lt;dbl&gt;</th><th scope=col>&lt;dbl&gt;</th><th scope=col>&lt;dbl&gt;</th></tr>\n",
       "</thead>\n",
       "<tbody>\n",
       "\t<tr><td>TM195</td><td> 82.78750</td><td>2.9625</td><td>46418.03</td><td>3.087500</td><td>15.03750</td><td>28.55</td></tr>\n",
       "\t<tr><td>TM498</td><td> 87.93333</td><td>2.9000</td><td>48973.65</td><td>3.066667</td><td>15.11667</td><td>28.90</td></tr>\n",
       "\t<tr><td>TM798</td><td>166.90000</td><td>4.6250</td><td>75441.57</td><td>4.775000</td><td>17.32500</td><td>29.10</td></tr>\n",
       "</tbody>\n",
       "</table>\n"
      ],
      "text/latex": [
       "A data.frame: 3 × 7\n",
       "\\begin{tabular}{lllllll}\n",
       " Product & Miles & Fitness & Income & Usage & Education & Age\\\\\n",
       " <chr> & <dbl> & <dbl> & <dbl> & <dbl> & <dbl> & <dbl>\\\\\n",
       "\\hline\n",
       "\t TM195 &  82.78750 & 2.9625 & 46418.03 & 3.087500 & 15.03750 & 28.55\\\\\n",
       "\t TM498 &  87.93333 & 2.9000 & 48973.65 & 3.066667 & 15.11667 & 28.90\\\\\n",
       "\t TM798 & 166.90000 & 4.6250 & 75441.57 & 4.775000 & 17.32500 & 29.10\\\\\n",
       "\\end{tabular}\n"
      ],
      "text/markdown": [
       "\n",
       "A data.frame: 3 × 7\n",
       "\n",
       "| Product &lt;chr&gt; | Miles &lt;dbl&gt; | Fitness &lt;dbl&gt; | Income &lt;dbl&gt; | Usage &lt;dbl&gt; | Education &lt;dbl&gt; | Age &lt;dbl&gt; |\n",
       "|---|---|---|---|---|---|---|\n",
       "| TM195 |  82.78750 | 2.9625 | 46418.03 | 3.087500 | 15.03750 | 28.55 |\n",
       "| TM498 |  87.93333 | 2.9000 | 48973.65 | 3.066667 | 15.11667 | 28.90 |\n",
       "| TM798 | 166.90000 | 4.6250 | 75441.57 | 4.775000 | 17.32500 | 29.10 |\n",
       "\n"
      ],
      "text/plain": [
       "  Product Miles     Fitness Income   Usage    Education Age  \n",
       "1 TM195    82.78750 2.9625  46418.03 3.087500 15.03750  28.55\n",
       "2 TM498    87.93333 2.9000  48973.65 3.066667 15.11667  28.90\n",
       "3 TM798   166.90000 4.6250  75441.57 4.775000 17.32500  29.10"
      ]
     },
     "metadata": {},
     "output_type": "display_data"
    }
   ],
   "source": [
    "aggregate_numerical <- aggregate(cbind(Miles, Fitness,Income,Usage,Education,Age) ~ Product, data = data, FUN = mean)\n",
    "\n",
    "aggregate_numerical"
   ]
  },
  {
   "cell_type": "markdown",
   "id": "796b978c",
   "metadata": {
    "papermill": {
     "duration": 0.01305,
     "end_time": "2025-02-28T15:03:38.672454",
     "exception": false,
     "start_time": "2025-02-28T15:03:38.659404",
     "status": "completed"
    },
    "tags": []
   },
   "source": [
    "**Let's visualize this using bar graphs.**"
   ]
  },
  {
   "cell_type": "code",
   "execution_count": 21,
   "id": "63510868",
   "metadata": {
    "execution": {
     "iopub.execute_input": "2025-02-28T15:03:38.701621Z",
     "iopub.status.busy": "2025-02-28T15:03:38.700010Z",
     "iopub.status.idle": "2025-02-28T15:03:39.579079Z",
     "shell.execute_reply": "2025-02-28T15:03:39.576218Z"
    },
    "papermill": {
     "duration": 0.897129,
     "end_time": "2025-02-28T15:03:39.582263",
     "exception": false,
     "start_time": "2025-02-28T15:03:38.685134",
     "status": "completed"
    },
    "tags": []
   },
   "outputs": [
    {
     "data": {
      "image/png": "[encoded data removed]"
     },
     "metadata": {
      "image/png": {
       "height": 420,
       "width": 420
      }
     },
     "output_type": "display_data"
    }
   ],
   "source": [
    "data_long <- melt(aggregate_numerical, id.vars = \"Product\")\n",
    "\n",
    "ggplot(data_long, aes(x = Product, y = value, fill = Product)) +\n",
    "  geom_bar(stat = \"identity\", position = \"dodge\") +\n",
    "  facet_wrap(~variable, scales = \"free\") +  \n",
    "  theme_minimal() +\n",
    "  ggtitle(\"Mean Customer Characteristics by Treadmill Product\") +\n",
    "  xlab(\"Treadmill Product\") +\n",
    "  ylab(\"Mean Value\") +\n",
    "  theme(legend.position = \"none\")"
   ]
  },
  {
   "cell_type": "markdown",
   "id": "0059e8c9",
   "metadata": {
    "papermill": {
     "duration": 0.045818,
     "end_time": "2025-02-28T15:03:39.642065",
     "exception": false,
     "start_time": "2025-02-28T15:03:39.596247",
     "status": "completed"
    },
    "tags": []
   },
   "source": [
    "**Individuals with higher expected miles, level of fitness, Income, Usage and even education prefer TM798.**"
   ]
  },
  {
   "cell_type": "code",
   "execution_count": 22,
   "id": "b25499c0",
   "metadata": {
    "execution": {
     "iopub.execute_input": "2025-02-28T15:03:39.673586Z",
     "iopub.status.busy": "2025-02-28T15:03:39.672018Z",
     "iopub.status.idle": "2025-02-28T15:03:39.739828Z",
     "shell.execute_reply": "2025-02-28T15:03:39.738106Z"
    },
    "papermill": {
     "duration": 0.086268,
     "end_time": "2025-02-28T15:03:39.742200",
     "exception": false,
     "start_time": "2025-02-28T15:03:39.655932",
     "status": "completed"
    },
    "tags": []
   },
   "outputs": [
    {
     "data": {
      "text/html": [
       "<table class=\"dataframe\">\n",
       "<caption>A data.frame: 4 × 9</caption>\n",
       "<thead>\n",
       "\t<tr><th></th><th scope=col>Product</th><th scope=col>MaritalStatus</th><th scope=col>Gender</th><th scope=col>Miles</th><th scope=col>Fitness</th><th scope=col>Income</th><th scope=col>Usage</th><th scope=col>Education</th><th scope=col>Age</th></tr>\n",
       "\t<tr><th></th><th scope=col>&lt;chr&gt;</th><th scope=col>&lt;chr&gt;</th><th scope=col>&lt;chr&gt;</th><th scope=col>&lt;dbl&gt;</th><th scope=col>&lt;dbl&gt;</th><th scope=col>&lt;dbl&gt;</th><th scope=col>&lt;dbl&gt;</th><th scope=col>&lt;dbl&gt;</th><th scope=col>&lt;dbl&gt;</th></tr>\n",
       "</thead>\n",
       "<tbody>\n",
       "\t<tr><th scope=row>1</th><td>TM195</td><td>Partnered</td><td>Female</td><td>74.92593</td><td>2.851852</td><td>46153.78</td><td>2.851852</td><td>14.88889</td><td>28.33333</td></tr>\n",
       "\t<tr><th scope=row>4</th><td>TM195</td><td>Single   </td><td>Female</td><td>78.84615</td><td>2.923077</td><td>45742.38</td><td>3.000000</td><td>15.53846</td><td>28.69231</td></tr>\n",
       "\t<tr><th scope=row>7</th><td>TM195</td><td>Partnered</td><td>Male  </td><td>80.19048</td><td>2.857143</td><td>50028.00</td><td>3.285714</td><td>15.42857</td><td>31.38095</td></tr>\n",
       "\t<tr><th scope=row>10</th><td>TM195</td><td>Single   </td><td>Male  </td><td>99.52632</td><td>3.263158</td><td>43265.84</td><td>3.263158</td><td>14.47368</td><td>25.63158</td></tr>\n",
       "</tbody>\n",
       "</table>\n"
      ],
      "text/latex": [
       "A data.frame: 4 × 9\n",
       "\\begin{tabular}{r|lllllllll}\n",
       "  & Product & MaritalStatus & Gender & Miles & Fitness & Income & Usage & Education & Age\\\\\n",
       "  & <chr> & <chr> & <chr> & <dbl> & <dbl> & <dbl> & <dbl> & <dbl> & <dbl>\\\\\n",
       "\\hline\n",
       "\t1 & TM195 & Partnered & Female & 74.92593 & 2.851852 & 46153.78 & 2.851852 & 14.88889 & 28.33333\\\\\n",
       "\t4 & TM195 & Single    & Female & 78.84615 & 2.923077 & 45742.38 & 3.000000 & 15.53846 & 28.69231\\\\\n",
       "\t7 & TM195 & Partnered & Male   & 80.19048 & 2.857143 & 50028.00 & 3.285714 & 15.42857 & 31.38095\\\\\n",
       "\t10 & TM195 & Single    & Male   & 99.52632 & 3.263158 & 43265.84 & 3.263158 & 14.47368 & 25.63158\\\\\n",
       "\\end{tabular}\n"
      ],
      "text/markdown": [
       "\n",
       "A data.frame: 4 × 9\n",
       "\n",
       "| <!--/--> | Product &lt;chr&gt; | MaritalStatus &lt;chr&gt; | Gender &lt;chr&gt; | Miles &lt;dbl&gt; | Fitness &lt;dbl&gt; | Income &lt;dbl&gt; | Usage &lt;dbl&gt; | Education &lt;dbl&gt; | Age &lt;dbl&gt; |\n",
       "|---|---|---|---|---|---|---|---|---|---|\n",
       "| 1 | TM195 | Partnered | Female | 74.92593 | 2.851852 | 46153.78 | 2.851852 | 14.88889 | 28.33333 |\n",
       "| 4 | TM195 | Single    | Female | 78.84615 | 2.923077 | 45742.38 | 3.000000 | 15.53846 | 28.69231 |\n",
       "| 7 | TM195 | Partnered | Male   | 80.19048 | 2.857143 | 50028.00 | 3.285714 | 15.42857 | 31.38095 |\n",
       "| 10 | TM195 | Single    | Male   | 99.52632 | 3.263158 | 43265.84 | 3.263158 | 14.47368 | 25.63158 |\n",
       "\n"
      ],
      "text/plain": [
       "   Product MaritalStatus Gender Miles    Fitness  Income   Usage    Education\n",
       "1  TM195   Partnered     Female 74.92593 2.851852 46153.78 2.851852 14.88889 \n",
       "4  TM195   Single        Female 78.84615 2.923077 45742.38 3.000000 15.53846 \n",
       "7  TM195   Partnered     Male   80.19048 2.857143 50028.00 3.285714 15.42857 \n",
       "10 TM195   Single        Male   99.52632 3.263158 43265.84 3.263158 14.47368 \n",
       "   Age     \n",
       "1  28.33333\n",
       "4  28.69231\n",
       "7  31.38095\n",
       "10 25.63158"
      ]
     },
     "metadata": {},
     "output_type": "display_data"
    },
    {
     "data": {
      "text/html": [
       "<table class=\"dataframe\">\n",
       "<caption>A data.frame: 4 × 9</caption>\n",
       "<thead>\n",
       "\t<tr><th></th><th scope=col>Product</th><th scope=col>MaritalStatus</th><th scope=col>Gender</th><th scope=col>Miles</th><th scope=col>Fitness</th><th scope=col>Income</th><th scope=col>Usage</th><th scope=col>Education</th><th scope=col>Age</th></tr>\n",
       "\t<tr><th></th><th scope=col>&lt;chr&gt;</th><th scope=col>&lt;chr&gt;</th><th scope=col>&lt;chr&gt;</th><th scope=col>&lt;dbl&gt;</th><th scope=col>&lt;dbl&gt;</th><th scope=col>&lt;dbl&gt;</th><th scope=col>&lt;dbl&gt;</th><th scope=col>&lt;dbl&gt;</th><th scope=col>&lt;dbl&gt;</th></tr>\n",
       "</thead>\n",
       "<tbody>\n",
       "\t<tr><th scope=row>2</th><td>TM498</td><td>Partnered</td><td>Female</td><td>94.00000</td><td>2.933333</td><td>49724.80</td><td>3.333333</td><td>15.20000</td><td>30.00000</td></tr>\n",
       "\t<tr><th scope=row>5</th><td>TM498</td><td>Single   </td><td>Female</td><td>80.21429</td><td>2.785714</td><td>48920.36</td><td>2.928571</td><td>15.21429</td><td>28.14286</td></tr>\n",
       "\t<tr><th scope=row>8</th><td>TM498</td><td>Partnered</td><td>Male  </td><td>87.23810</td><td>2.904762</td><td>49378.29</td><td>2.857143</td><td>15.28571</td><td>30.38095</td></tr>\n",
       "\t<tr><th scope=row>11</th><td>TM498</td><td>Single   </td><td>Male  </td><td>91.10000</td><td>3.000000</td><td>47071.80</td><td>3.300000</td><td>14.50000</td><td>25.20000</td></tr>\n",
       "</tbody>\n",
       "</table>\n"
      ],
      "text/latex": [
       "A data.frame: 4 × 9\n",
       "\\begin{tabular}{r|lllllllll}\n",
       "  & Product & MaritalStatus & Gender & Miles & Fitness & Income & Usage & Education & Age\\\\\n",
       "  & <chr> & <chr> & <chr> & <dbl> & <dbl> & <dbl> & <dbl> & <dbl> & <dbl>\\\\\n",
       "\\hline\n",
       "\t2 & TM498 & Partnered & Female & 94.00000 & 2.933333 & 49724.80 & 3.333333 & 15.20000 & 30.00000\\\\\n",
       "\t5 & TM498 & Single    & Female & 80.21429 & 2.785714 & 48920.36 & 2.928571 & 15.21429 & 28.14286\\\\\n",
       "\t8 & TM498 & Partnered & Male   & 87.23810 & 2.904762 & 49378.29 & 2.857143 & 15.28571 & 30.38095\\\\\n",
       "\t11 & TM498 & Single    & Male   & 91.10000 & 3.000000 & 47071.80 & 3.300000 & 14.50000 & 25.20000\\\\\n",
       "\\end{tabular}\n"
      ],
      "text/markdown": [
       "\n",
       "A data.frame: 4 × 9\n",
       "\n",
       "| <!--/--> | Product &lt;chr&gt; | MaritalStatus &lt;chr&gt; | Gender &lt;chr&gt; | Miles &lt;dbl&gt; | Fitness &lt;dbl&gt; | Income &lt;dbl&gt; | Usage &lt;dbl&gt; | Education &lt;dbl&gt; | Age &lt;dbl&gt; |\n",
       "|---|---|---|---|---|---|---|---|---|---|\n",
       "| 2 | TM498 | Partnered | Female | 94.00000 | 2.933333 | 49724.80 | 3.333333 | 15.20000 | 30.00000 |\n",
       "| 5 | TM498 | Single    | Female | 80.21429 | 2.785714 | 48920.36 | 2.928571 | 15.21429 | 28.14286 |\n",
       "| 8 | TM498 | Partnered | Male   | 87.23810 | 2.904762 | 49378.29 | 2.857143 | 15.28571 | 30.38095 |\n",
       "| 11 | TM498 | Single    | Male   | 91.10000 | 3.000000 | 47071.80 | 3.300000 | 14.50000 | 25.20000 |\n",
       "\n"
      ],
      "text/plain": [
       "   Product MaritalStatus Gender Miles    Fitness  Income   Usage    Education\n",
       "2  TM498   Partnered     Female 94.00000 2.933333 49724.80 3.333333 15.20000 \n",
       "5  TM498   Single        Female 80.21429 2.785714 48920.36 2.928571 15.21429 \n",
       "8  TM498   Partnered     Male   87.23810 2.904762 49378.29 2.857143 15.28571 \n",
       "11 TM498   Single        Male   91.10000 3.000000 47071.80 3.300000 14.50000 \n",
       "   Age     \n",
       "2  30.00000\n",
       "5  28.14286\n",
       "8  30.38095\n",
       "11 25.20000"
      ]
     },
     "metadata": {},
     "output_type": "display_data"
    },
    {
     "data": {
      "text/html": [
       "<table class=\"dataframe\">\n",
       "<caption>A data.frame: 4 × 9</caption>\n",
       "<thead>\n",
       "\t<tr><th></th><th scope=col>Product</th><th scope=col>MaritalStatus</th><th scope=col>Gender</th><th scope=col>Miles</th><th scope=col>Fitness</th><th scope=col>Income</th><th scope=col>Usage</th><th scope=col>Education</th><th scope=col>Age</th></tr>\n",
       "\t<tr><th></th><th scope=col>&lt;chr&gt;</th><th scope=col>&lt;chr&gt;</th><th scope=col>&lt;chr&gt;</th><th scope=col>&lt;dbl&gt;</th><th scope=col>&lt;dbl&gt;</th><th scope=col>&lt;dbl&gt;</th><th scope=col>&lt;dbl&gt;</th><th scope=col>&lt;dbl&gt;</th><th scope=col>&lt;dbl&gt;</th></tr>\n",
       "</thead>\n",
       "<tbody>\n",
       "\t<tr><th scope=row>3</th><td>TM798</td><td>Partnered</td><td>Female</td><td>215.0000</td><td>5.000000</td><td>84972.25</td><td>5.250000</td><td>17.50000</td><td>29.00000</td></tr>\n",
       "\t<tr><th scope=row>6</th><td>TM798</td><td>Single   </td><td>Female</td><td>133.3333</td><td>4.000000</td><td>58516.00</td><td>4.666667</td><td>18.33333</td><td>24.33333</td></tr>\n",
       "\t<tr><th scope=row>9</th><td>TM798</td><td>Partnered</td><td>Male  </td><td>176.3158</td><td>4.631579</td><td>81431.37</td><td>4.842105</td><td>17.42105</td><td>30.00000</td></tr>\n",
       "\t<tr><th scope=row>12</th><td>TM798</td><td>Single   </td><td>Male  </td><td>147.5714</td><td>4.642857</td><td>68216.43</td><td>4.571429</td><td>16.92857</td><td>28.92857</td></tr>\n",
       "</tbody>\n",
       "</table>\n"
      ],
      "text/latex": [
       "A data.frame: 4 × 9\n",
       "\\begin{tabular}{r|lllllllll}\n",
       "  & Product & MaritalStatus & Gender & Miles & Fitness & Income & Usage & Education & Age\\\\\n",
       "  & <chr> & <chr> & <chr> & <dbl> & <dbl> & <dbl> & <dbl> & <dbl> & <dbl>\\\\\n",
       "\\hline\n",
       "\t3 & TM798 & Partnered & Female & 215.0000 & 5.000000 & 84972.25 & 5.250000 & 17.50000 & 29.00000\\\\\n",
       "\t6 & TM798 & Single    & Female & 133.3333 & 4.000000 & 58516.00 & 4.666667 & 18.33333 & 24.33333\\\\\n",
       "\t9 & TM798 & Partnered & Male   & 176.3158 & 4.631579 & 81431.37 & 4.842105 & 17.42105 & 30.00000\\\\\n",
       "\t12 & TM798 & Single    & Male   & 147.5714 & 4.642857 & 68216.43 & 4.571429 & 16.92857 & 28.92857\\\\\n",
       "\\end{tabular}\n"
      ],
      "text/markdown": [
       "\n",
       "A data.frame: 4 × 9\n",
       "\n",
       "| <!--/--> | Product &lt;chr&gt; | MaritalStatus &lt;chr&gt; | Gender &lt;chr&gt; | Miles &lt;dbl&gt; | Fitness &lt;dbl&gt; | Income &lt;dbl&gt; | Usage &lt;dbl&gt; | Education &lt;dbl&gt; | Age &lt;dbl&gt; |\n",
       "|---|---|---|---|---|---|---|---|---|---|\n",
       "| 3 | TM798 | Partnered | Female | 215.0000 | 5.000000 | 84972.25 | 5.250000 | 17.50000 | 29.00000 |\n",
       "| 6 | TM798 | Single    | Female | 133.3333 | 4.000000 | 58516.00 | 4.666667 | 18.33333 | 24.33333 |\n",
       "| 9 | TM798 | Partnered | Male   | 176.3158 | 4.631579 | 81431.37 | 4.842105 | 17.42105 | 30.00000 |\n",
       "| 12 | TM798 | Single    | Male   | 147.5714 | 4.642857 | 68216.43 | 4.571429 | 16.92857 | 28.92857 |\n",
       "\n"
      ],
      "text/plain": [
       "   Product MaritalStatus Gender Miles    Fitness  Income   Usage    Education\n",
       "3  TM798   Partnered     Female 215.0000 5.000000 84972.25 5.250000 17.50000 \n",
       "6  TM798   Single        Female 133.3333 4.000000 58516.00 4.666667 18.33333 \n",
       "9  TM798   Partnered     Male   176.3158 4.631579 81431.37 4.842105 17.42105 \n",
       "12 TM798   Single        Male   147.5714 4.642857 68216.43 4.571429 16.92857 \n",
       "   Age     \n",
       "3  29.00000\n",
       "6  24.33333\n",
       "9  30.00000\n",
       "12 28.92857"
      ]
     },
     "metadata": {},
     "output_type": "display_data"
    }
   ],
   "source": [
    "aggregate_all <- aggregate(cbind(Miles, Fitness,Income,Usage,Education,Age) ~ Product + MaritalStatus + Gender, data = data, FUN = mean)\n",
    "\n",
    "aggregate_TM195 <- subset(aggregate_all, Product == \"TM195\")\n",
    "\n",
    "aggregate_TM498 <- subset(aggregate_all, Product == \"TM498\")\n",
    "\n",
    "aggregate_TM798 <- subset(aggregate_all, Product == \"TM798\")\n",
    "\n",
    "aggregate_TM195\n",
    "\n",
    "aggregate_TM498\n",
    "\n",
    "aggregate_TM798"
   ]
  },
  {
   "cell_type": "markdown",
   "id": "61b89e57",
   "metadata": {
    "papermill": {
     "duration": 0.014681,
     "end_time": "2025-02-28T15:03:39.772081",
     "exception": false,
     "start_time": "2025-02-28T15:03:39.757400",
     "status": "completed"
    },
    "tags": []
   },
   "source": [
    "**As we can see in this analysis, the products are quite similar, however, a female who's planning to run more than 80 and less than 130 miles per week should take the TM498.**"
   ]
  },
  {
   "cell_type": "markdown",
   "id": "adc9bc9c",
   "metadata": {
    "papermill": {
     "duration": 0.014516,
     "end_time": "2025-02-28T15:03:39.801356",
     "exception": false,
     "start_time": "2025-02-28T15:03:39.786840",
     "status": "completed"
    },
    "tags": []
   },
   "source": [
    "# Conclusions"
   ]
  },
  {
   "cell_type": "markdown",
   "id": "9524c802",
   "metadata": {
    "papermill": {
     "duration": 0.014629,
     "end_time": "2025-02-28T15:03:39.830937",
     "exception": false,
     "start_time": "2025-02-28T15:03:39.816308",
     "status": "completed"
    },
    "tags": []
   },
   "source": [
    "1. Partnered Individuals tend to purchase more treadmills than single individuals in general.\n",
    "2. Partnered females specifically prefer the TM195, and partnered males tend to purchase the TM498, while single males prefer the TM195 or TM798 depending on income and fitness goals. Additionally, females with miles between 80 and 130 prefer the TM498\n",
    "3. The highest rates of purchases for the TM798 model is by males, and customers with higher income, usage, miles, education, fitness, and age tend to purchase this model in general.\n",
    "4. Someone opting for the cheapest model should purchase the TM195."
   ]
  },
  {
   "cell_type": "markdown",
   "id": "d4cd4e8b",
   "metadata": {
    "papermill": {
     "duration": 0.014499,
     "end_time": "2025-02-28T15:03:39.860273",
     "exception": false,
     "start_time": "2025-02-28T15:03:39.845774",
     "status": "completed"
    },
    "tags": []
   },
   "source": [
    "# Recommendations"
   ]
  },
  {
   "cell_type": "markdown",
   "id": "461dc98a",
   "metadata": {
    "papermill": {
     "duration": 0.014381,
     "end_time": "2025-02-28T15:03:39.889379",
     "exception": false,
     "start_time": "2025-02-28T15:03:39.874998",
     "status": "completed"
    },
    "tags": []
   },
   "source": [
    "1. Increase advertisments for partnered individuals.\n",
    "2. middle-class females, especially partnered females should be recommended the TM498.\n",
    "3. Higher-class customers with great fitness level and dedicated high-mileage runner should purchase the TM798 model. This could be advertised for gym owners or well renowned fitness influencers.\n",
    "4. People with lower income and moderate fitness goals who aim for an average of 3 uses per week (a regular run) should purchase the TM195 model. Advertisments could be placed on regular running tracks along the beach or a forest for this specific model."
   ]
  }
 ],
 "metadata": {
  "kaggle": {
   "accelerator": "none",
   "dataSources": [
    {
     "datasetId": 375151,
     "sourceId": 728976,
     "sourceType": "datasetVersion"
    }
   ],
   "dockerImageVersionId": 30749,
   "isGpuEnabled": false,
   "isInternetEnabled": true,
   "language": "r",
   "sourceType": "notebook"
  },
  "kernelspec": {
   "display_name": "R",
   "language": "R",
   "name": "ir"
  },
  "language_info": {
   "codemirror_mode": "r",
   "file_extension": ".r",
   "mimetype": "text/x-r-source",
   "name": "R",
   "pygments_lexer": "r",
   "version": "4.4.0"
  },
  "papermill": {
   "default_parameters": {},
   "duration": 77.7747,
   "end_time": "2025-02-28T15:03:40.025985",
   "environment_variables": {},
   "exception": null,
   "input_path": "__notebook__.ipynb",
   "output_path": "__notebook__.ipynb",
   "parameters": {},
   "start_time": "2025-02-28T15:02:22.251285",
   "version": "2.6.0"
  }
 },
 "nbformat": 4,
 "nbformat_minor": 5
}
